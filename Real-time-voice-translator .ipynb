{
 "cells": [
  {
   "cell_type": "markdown",
   "metadata": {},
   "source": [
    "#### **Real Time Voice Translator**     \n",
    "     \n",
    "A real-time voice translator that can translate voice input and give translated voice output generated from it.      \n",
    "It is created using google’s googleTrans API and speech_recognition library of python.      \n",
    "It converts text from one language to another language and saves its mp3 recorded file.       \n",
    "The playsound module is then used to play the generated mp3 file   \n",
    "      \n",
    "Ref:    \n",
    "https://www.geeksforgeeks.org/create-a-real-time-voice-translator-using-python/    "
   ]
  },
  {
   "cell_type": "markdown",
   "metadata": {},
   "source": [
    "**Module needed**    \n",
    "     \n",
    "     \n",
    "**playsound:** This module is used to play sound in Python.    \n",
    "pip3 install playsound    \n",
    "     \n",
    "**Speech Recognition Module:** It is a library with the help of which Python can recognize the command given.     \n",
    "We have to use pip for Speech Recognition.     \n",
    "pip3 install SpeechRecognition     \n",
    "      \n",
    "**googletrans:** Googletrans is a free and unlimited python library that implemented Google Translate API.    \n",
    "pip3 install googletrans    \n",
    "     \n",
    "**gTTs:** The gTTS API supports several languages including English, Hindi, Tamil, French, German and many more.      \n",
    "pip3 install gTTs    \n",
    "pip3 install gTTS-token    "
   ]
  },
  {
   "cell_type": "markdown",
   "metadata": {},
   "source": [
    "**Step 1: Importing Necessary Modules**"
   ]
  },
  {
   "cell_type": "code",
   "execution_count": 9,
   "metadata": {},
   "outputs": [],
   "source": [
    "# Importing necessary modules required\n",
    "from playsound import playsound\n",
    "import speech_recognition as sr\n",
    "from googletrans import Translator, LANGUAGES\n",
    "from gtts import gTTS"
   ]
  },
  {
   "cell_type": "markdown",
   "metadata": {},
   "source": [
    "**Step 2: All the languages mapped with their code**"
   ]
  },
  {
   "cell_type": "code",
   "execution_count": 8,
   "metadata": {},
   "outputs": [
    {
     "data": {
      "text/plain": [
       "{'af': 'afrikaans',\n",
       " 'sq': 'albanian',\n",
       " 'am': 'amharic',\n",
       " 'ar': 'arabic',\n",
       " 'hy': 'armenian',\n",
       " 'az': 'azerbaijani',\n",
       " 'eu': 'basque',\n",
       " 'be': 'belarusian',\n",
       " 'bn': 'bengali',\n",
       " 'bs': 'bosnian',\n",
       " 'bg': 'bulgarian',\n",
       " 'ca': 'catalan',\n",
       " 'ceb': 'cebuano',\n",
       " 'ny': 'chichewa',\n",
       " 'zh-cn': 'chinese (simplified)',\n",
       " 'zh-tw': 'chinese (traditional)',\n",
       " 'co': 'corsican',\n",
       " 'hr': 'croatian',\n",
       " 'cs': 'czech',\n",
       " 'da': 'danish',\n",
       " 'nl': 'dutch',\n",
       " 'en': 'english',\n",
       " 'eo': 'esperanto',\n",
       " 'et': 'estonian',\n",
       " 'tl': 'filipino',\n",
       " 'fi': 'finnish',\n",
       " 'fr': 'french',\n",
       " 'fy': 'frisian',\n",
       " 'gl': 'galician',\n",
       " 'ka': 'georgian',\n",
       " 'de': 'german',\n",
       " 'el': 'greek',\n",
       " 'gu': 'gujarati',\n",
       " 'ht': 'haitian creole',\n",
       " 'ha': 'hausa',\n",
       " 'haw': 'hawaiian',\n",
       " 'iw': 'hebrew',\n",
       " 'he': 'hebrew',\n",
       " 'hi': 'hindi',\n",
       " 'hmn': 'hmong',\n",
       " 'hu': 'hungarian',\n",
       " 'is': 'icelandic',\n",
       " 'ig': 'igbo',\n",
       " 'id': 'indonesian',\n",
       " 'ga': 'irish',\n",
       " 'it': 'italian',\n",
       " 'ja': 'japanese',\n",
       " 'jw': 'javanese',\n",
       " 'kn': 'kannada',\n",
       " 'kk': 'kazakh',\n",
       " 'km': 'khmer',\n",
       " 'ko': 'korean',\n",
       " 'ku': 'kurdish (kurmanji)',\n",
       " 'ky': 'kyrgyz',\n",
       " 'lo': 'lao',\n",
       " 'la': 'latin',\n",
       " 'lv': 'latvian',\n",
       " 'lt': 'lithuanian',\n",
       " 'lb': 'luxembourgish',\n",
       " 'mk': 'macedonian',\n",
       " 'mg': 'malagasy',\n",
       " 'ms': 'malay',\n",
       " 'ml': 'malayalam',\n",
       " 'mt': 'maltese',\n",
       " 'mi': 'maori',\n",
       " 'mr': 'marathi',\n",
       " 'mn': 'mongolian',\n",
       " 'my': 'myanmar (burmese)',\n",
       " 'ne': 'nepali',\n",
       " 'no': 'norwegian',\n",
       " 'or': 'odia',\n",
       " 'ps': 'pashto',\n",
       " 'fa': 'persian',\n",
       " 'pl': 'polish',\n",
       " 'pt': 'portuguese',\n",
       " 'pa': 'punjabi',\n",
       " 'ro': 'romanian',\n",
       " 'ru': 'russian',\n",
       " 'sm': 'samoan',\n",
       " 'gd': 'scots gaelic',\n",
       " 'sr': 'serbian',\n",
       " 'st': 'sesotho',\n",
       " 'sn': 'shona',\n",
       " 'sd': 'sindhi',\n",
       " 'si': 'sinhala',\n",
       " 'sk': 'slovak',\n",
       " 'sl': 'slovenian',\n",
       " 'so': 'somali',\n",
       " 'es': 'spanish',\n",
       " 'su': 'sundanese',\n",
       " 'sw': 'swahili',\n",
       " 'sv': 'swedish',\n",
       " 'tg': 'tajik',\n",
       " 'ta': 'tamil',\n",
       " 'te': 'telugu',\n",
       " 'th': 'thai',\n",
       " 'tr': 'turkish',\n",
       " 'uk': 'ukrainian',\n",
       " 'ur': 'urdu',\n",
       " 'ug': 'uyghur',\n",
       " 'uz': 'uzbek',\n",
       " 'vi': 'vietnamese',\n",
       " 'cy': 'welsh',\n",
       " 'xh': 'xhosa',\n",
       " 'yi': 'yiddish',\n",
       " 'yo': 'yoruba',\n",
       " 'zu': 'zulu'}"
      ]
     },
     "execution_count": 8,
     "metadata": {},
     "output_type": "execute_result"
    }
   ],
   "source": [
    "from googletrans import LANGUAGES\n",
    "\n",
    "LANGUAGES"
   ]
  },
  {
   "cell_type": "markdown",
   "metadata": {},
   "source": [
    "**Step 3: Taking voice commands from the user**"
   ]
  },
  {
   "cell_type": "markdown",
   "metadata": {},
   "source": [
    "**Guide To Speech Recognition**    \n",
    "https://realpython.com/python-speech-recognition/\n",
    "\n",
    "**Start Jack Server**     \n",
    "$ qjackctl      \n",
    "    \n",
    "Problem starting JACK server \"Jack Server is not running     \n",
    "https://askubuntu.com/questions/557906/problem-starting-jack-server-jack-server-is-not-running-or-cannot-be-started"
   ]
  },
  {
   "cell_type": "code",
   "execution_count": null,
   "metadata": {},
   "outputs": [],
   "source": [
    "import speech_recognition as sr\n",
    "\n",
    "r = sr.Recognizer()\n",
    "mic = sr.Microphone()\n",
    "with mic as source:\n",
    "    audio = r.listen(source)\n",
    "    r.recognize_google(audio)"
   ]
  },
  {
   "cell_type": "code",
   "execution_count": null,
   "metadata": {},
   "outputs": [
    {
     "name": "stdout",
     "output_type": "stream",
     "text": [
      "listening.....\n"
     ]
    }
   ],
   "source": [
    "import speech_recognition as sr\n",
    "\n",
    "# Capture Voice through microphone\n",
    "def takecommand():\n",
    "    r = sr.Recognizer()\n",
    "    with sr.Microphone() as source:\n",
    "        print(\"listening.....\")\n",
    "        r.pause_threshold = 373.9473124038273\n",
    "        audio = r.listen(source)\n",
    "        \n",
    "    try:\n",
    "        print(\"Recognizing.....\")\n",
    "        query = r.recognize_google(audio, language='en-in')\n",
    "        print(f\"user said {query}\\n\")\n",
    "    except Exception as e:\n",
    "        print(\"say that again please.....\")\n",
    "        return \"None\"\n",
    "    return query\n",
    "\n",
    "takecommand()"
   ]
  },
  {
   "cell_type": "markdown",
   "metadata": {},
   "source": [
    "**Step 4: Taking voice input from the user**"
   ]
  },
  {
   "cell_type": "code",
   "execution_count": 6,
   "metadata": {},
   "outputs": [
    {
     "name": "stdout",
     "output_type": "stream",
     "text": [
      "listening.....\n",
      "Recognizing.....\n",
      "say that again please.....\n",
      "listening.....\n",
      "Recognizing.....\n",
      "user said hello\n",
      "\n"
     ]
    }
   ],
   "source": [
    "# Taking voice input from the user\n",
    "query = takecommand()\n",
    "while query == \"None\":\n",
    "    query = takecommand()"
   ]
  },
  {
   "cell_type": "markdown",
   "metadata": {},
   "source": [
    "**Step 5: Input destination language from the user, Mapping user input with the language code**"
   ]
  },
  {
   "cell_type": "code",
   "execution_count": null,
   "metadata": {},
   "outputs": [],
   "source": [
    "def destination_language():\n",
    "    print(\"Enter the language in which you want to convert:\")\n",
    "    to_lang = takecommand()\n",
    "    while to_lang == \"None\":\n",
    "        to_lang = takecommand()\n",
    "    to_lang = to_lang.casefold()\n",
    "    return to_lang\n",
    "  \n",
    "to_lang = destination_language()\n",
    "  \n",
    "# Mapping it with the code\n",
    "langd = {y: x for x, y in LANGUAGES.items()}\n",
    "to_lang = langd.get(to_lang)"
   ]
  },
  {
   "cell_type": "markdown",
   "metadata": {},
   "source": [
    "**Step 6: Translating from src to dest**"
   ]
  },
  {
   "cell_type": "code",
   "execution_count": 10,
   "metadata": {},
   "outputs": [],
   "source": [
    "translator = Translator()\n",
    "# Translating from src to dest\n",
    "text_to_translate = translator.translate(query, dest=to_lang)\n",
    "text = text_to_translate.text"
   ]
  },
  {
   "cell_type": "markdown",
   "metadata": {},
   "source": [
    "**Step 7: Saving Translated files and deleting them after playing**"
   ]
  },
  {
   "cell_type": "code",
   "execution_count": null,
   "metadata": {},
   "outputs": [],
   "source": [
    "# Using Google-Text-to-Speech ie, gTTS() method to speak the translated \n",
    "# text into the destination language which is stored in to_lang.\n",
    "# Also, we have given 3rd argument as False because\n",
    "# by default it speaks very slowly\n",
    "speak = gTTS(text=text, lang=to_lang, slow=False)\n",
    "  \n",
    "# Using save() method to save the translated\n",
    "# speech in capture_voice.mp3\n",
    "speak.save(\"captured_voice.mp3\")\n",
    "playsound('captured_voice.mp3')\n",
    "print(text)"
   ]
  },
  {
   "cell_type": "markdown",
   "metadata": {},
   "source": [
    "**Implemetation Code:**"
   ]
  },
  {
   "cell_type": "code",
   "execution_count": null,
   "metadata": {},
   "outputs": [
    {
     "name": "stdout",
     "output_type": "stream",
     "text": [
      "listening.....\n"
     ]
    }
   ],
   "source": [
    "# Importing necessary modules required\n",
    "from playsound import playsound\n",
    "import speech_recognition as sr\n",
    "from googletrans import Translator, LANGUAGES\n",
    "from gtts import gTTS\n",
    "\n",
    "import speech_recognition as sr\n",
    "\n",
    "# Capture Voice through microphone\n",
    "def takecommand():\n",
    "    r = sr.Recognizer()\n",
    "    with sr.Microphone() as source:\n",
    "        print(\"listening.....\")\n",
    "        r.pause_threshold = 373.9473124038273\n",
    "        audio = r.listen(source)\n",
    "        \n",
    "    try:\n",
    "        print(\"Recognizing.....\")\n",
    "        query = r.recognize_google(audio, language='en-in')\n",
    "        print(f\"user said {query}\\n\")\n",
    "    except Exception as e:\n",
    "        print(\"say that again please.....\")\n",
    "        return \"None\"\n",
    "    return query\n",
    "\n",
    "# Taking voice input from the user\n",
    "query = takecommand()\n",
    "while query == \"None\":\n",
    "    query = takecommand()\n",
    "    \n",
    "def destination_language():\n",
    "    print(\"Enter the language in which you want to convert:\")\n",
    "    to_lang = takecommand()\n",
    "    while to_lang == \"None\":\n",
    "        to_lang = takecommand()\n",
    "    to_lang = to_lang.casefold()\n",
    "    return to_lang\n",
    "to_lang = destination_language()\n",
    "  \n",
    "# Mapping it with the code\n",
    "langd = {y: x for x, y in LANGUAGES.items()}\n",
    "to_lang = langd.get(to_lang)\n",
    "\n",
    "# Translating from src to dest\n",
    "translator = Translator()\n",
    "text_to_translate = translator.translate(query, dest=to_lang)\n",
    "text = text_to_translate.text\n",
    "\n",
    "speak = gTTS(text=text, lang=to_lang, slow=False)\n",
    "speak.save(\"captured_voice.mp3\")\n",
    "playsound('captured_voice.mp3')\n",
    "print(text)"
   ]
  },
  {
   "cell_type": "code",
   "execution_count": null,
   "metadata": {},
   "outputs": [],
   "source": []
  }
 ],
 "metadata": {
  "kernelspec": {
   "display_name": "Python 3",
   "language": "python",
   "name": "python3"
  },
  "language_info": {
   "codemirror_mode": {
    "name": "ipython",
    "version": 3
   },
   "file_extension": ".py",
   "mimetype": "text/x-python",
   "name": "python",
   "nbconvert_exporter": "python",
   "pygments_lexer": "ipython3",
   "version": "3.8.10"
  }
 },
 "nbformat": 4,
 "nbformat_minor": 4
}
